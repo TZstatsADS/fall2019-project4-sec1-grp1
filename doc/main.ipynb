{
 "cells": [
  {
   "cell_type": "markdown",
   "metadata": {},
   "source": [
    "# Project 4 - Group 1"
   ]
  },
  {
   "cell_type": "markdown",
   "metadata": {},
   "source": [
    "In this project, you are going to explore matrix factorization methods for recommender system. The goal is to match consumers with most appropriate products. Matrix factorization methods characterize both items and users by vectors of factors inferred from item rating patterns. High correspondence between item and user factors leads to a recommendation. Matrix factorization generally has 3 parts:\n",
    "+ factorization algorithm\n",
    "\n",
    "+ regularization\n",
    "\n",
    "+ postpocessing\n",
    "\n",
    "Our group's project aims to compare \n",
    "+ A1+P2\n",
    "+ A1+P2+R1+R2\n",
    "+ A1+P2+R3\n",
    "That is, to compare effect of regularizations given (A1+P2)"
   ]
  },
  {
   "cell_type": "markdown",
   "metadata": {},
   "source": [
    "## Step 1 Load Data and Train-test Split"
   ]
  },
  {
   "cell_type": "code",
   "execution_count": 94,
   "metadata": {
    "ExecuteTime": {
     "end_time": "2019-11-20T00:38:52.218764Z",
     "start_time": "2019-11-20T00:38:48.789847Z"
    }
   },
   "outputs": [],
   "source": [
    "import os\n",
    "import pandas as pd\n",
    "import numpy as np\n",
    "os.chdir('/Users/nicholeyao/Downloads/fall2019-project4-sec1-grp1-master 4/lib')"
   ]
  },
  {
   "cell_type": "code",
   "execution_count": 95,
   "metadata": {
    "ExecuteTime": {
     "end_time": "2019-11-20T00:38:52.371321Z",
     "start_time": "2019-11-20T00:38:52.221721Z"
    }
   },
   "outputs": [
    {
     "data": {
      "text/plain": [
       "(80669, 20167)"
      ]
     },
     "execution_count": 95,
     "metadata": {},
     "output_type": "execute_result"
    }
   ],
   "source": [
    "data = pd.read_csv('../data/ml-latest-small/ratings.csv')\n",
    "few_comments_idx = data['movieId'].value_counts()<5\n",
    "few_comments_idx = few_comments_idx.index\n",
    "\n",
    "test_data = data[(data['movieId'].isin(few_comments_idx))].sample(frac = .2)\n",
    "train_data = data.drop(test_data.index)\n",
    "train_data.shape[0],test_data.shape[0]"
   ]
  },
  {
   "cell_type": "markdown",
   "metadata": {},
   "source": [
    "## Step 2 Matrix Factorization"
   ]
  },
  {
   "cell_type": "markdown",
   "metadata": {},
   "source": [
    "### Step 2.1 Algorithm and Regularization"
   ]
  },
  {
   "cell_type": "code",
   "execution_count": 96,
   "metadata": {
    "ExecuteTime": {
     "end_time": "2019-11-20T00:38:55.607851Z",
     "start_time": "2019-11-20T00:38:52.373315Z"
    }
   },
   "outputs": [],
   "source": [
    "import time\n",
    "from Matrix_Factorization_A1 import Matrix_Factorization as mf"
   ]
  },
  {
   "cell_type": "markdown",
   "metadata": {},
   "source": [
    "### Basic Model: A1+ P2"
   ]
  },
  {
   "cell_type": "code",
   "execution_count": 89,
   "metadata": {
    "ExecuteTime": {
     "end_time": "2019-11-20T01:41:34.498302Z",
     "start_time": "2019-11-20T01:40:31.305792Z"
    }
   },
   "outputs": [
    {
     "name": "stdout",
     "output_type": "stream",
     "text": [
      "traing time: 61.22s\n",
      "training RMSE: 1.1655072472587162\n",
      "test RMSE: 1.3625191283746514\n",
      "predict time: 1.04s\n"
     ]
    }
   ],
   "source": [
    "start = time.time()\n",
    "model = mf(data, train_data,test_data)\n",
    "model.gradesc(f = 10,lam = 0, lrate = 0.01,epoch = 10,stopping_deriv = 0.01)\n",
    "est_rating = model.KNN(k=1,test_point=data)\n",
    "finish = time.time()\n",
    "print('traing time: {:.2f}s'.format(finish - start))\n",
    "model.predict(train_data,test_data)\n",
    "finish_predict = time.time()\n",
    "print('predict time: {:.2f}s'.format(finish_predict - finish))"
   ]
  },
  {
   "cell_type": "markdown",
   "metadata": {},
   "source": [
    "### A1+ R1+ R2 + P2"
   ]
  },
  {
   "cell_type": "code",
   "execution_count": 106,
   "metadata": {
    "ExecuteTime": {
     "end_time": "2019-11-20T01:42:37.880085Z",
     "start_time": "2019-11-20T01:41:34.502292Z"
    }
   },
   "outputs": [
    {
     "name": "stdout",
     "output_type": "stream",
     "text": [
      "traing time: 43.66s\n",
      "training RMSE: 1.2800030718166082\n",
      "test RMSE: 1.283101264244342\n",
      "predict time: 1.22s\n"
     ]
    }
   ],
   "source": [
    "start = time.time()\n",
    "model_bias = mf(data, train_data,test_data)\n",
    "model_bias.gradesc_bias(f = 10,lam = 0.001, lrate = 0.01,epoch = 10,stopping_deriv = 0.01)\n",
    "est_rating = model_bias.KNN(k=1,test_point=data)\n",
    "finish = time.time()\n",
    "print('traing time: {:.2f}s'.format(finish - start))\n",
    "model_bias.predict(train_data,test_data)\n",
    "finish_predict = time.time()\n",
    "print('predict time: {:.2f}s'.format(finish_predict - finish))"
   ]
  },
  {
   "cell_type": "markdown",
   "metadata": {},
   "source": [
    "### A1+ R3 + P2"
   ]
  },
  {
   "cell_type": "code",
   "execution_count": 105,
   "metadata": {},
   "outputs": [
    {
     "ename": "TypeError",
     "evalue": "gradesc_dynamic() got an unexpected keyword argument 'epoch'",
     "output_type": "error",
     "traceback": [
      "\u001b[0;31m---------------------------------------------------------------------------\u001b[0m",
      "\u001b[0;31mTypeError\u001b[0m                                 Traceback (most recent call last)",
      "\u001b[0;32m<ipython-input-105-329119eb7a17>\u001b[0m in \u001b[0;36m<module>\u001b[0;34m\u001b[0m\n\u001b[1;32m      1\u001b[0m \u001b[0mstart\u001b[0m \u001b[0;34m=\u001b[0m \u001b[0mtime\u001b[0m\u001b[0;34m.\u001b[0m\u001b[0mtime\u001b[0m\u001b[0;34m(\u001b[0m\u001b[0;34m)\u001b[0m\u001b[0;34m\u001b[0m\u001b[0;34m\u001b[0m\u001b[0m\n\u001b[1;32m      2\u001b[0m \u001b[0mmodel_dy\u001b[0m \u001b[0;34m=\u001b[0m \u001b[0mmf\u001b[0m\u001b[0;34m(\u001b[0m\u001b[0mdata\u001b[0m\u001b[0;34m,\u001b[0m \u001b[0mtrain_data\u001b[0m\u001b[0;34m,\u001b[0m\u001b[0mtest_data\u001b[0m\u001b[0;34m)\u001b[0m\u001b[0;34m\u001b[0m\u001b[0;34m\u001b[0m\u001b[0m\n\u001b[0;32m----> 3\u001b[0;31m \u001b[0mmodel_dy\u001b[0m\u001b[0;34m.\u001b[0m\u001b[0mgradesc_dynamic\u001b[0m\u001b[0;34m(\u001b[0m\u001b[0mf\u001b[0m\u001b[0;34m=\u001b[0m\u001b[0;36m10\u001b[0m\u001b[0;34m,\u001b[0m\u001b[0mlam\u001b[0m\u001b[0;34m=\u001b[0m\u001b[0;36m0.3\u001b[0m\u001b[0;34m,\u001b[0m \u001b[0mlrate\u001b[0m\u001b[0;34m=\u001b[0m\u001b[0;36m0.01\u001b[0m\u001b[0;34m,\u001b[0m \u001b[0mepoch\u001b[0m\u001b[0;34m=\u001b[0m\u001b[0;36m10\u001b[0m\u001b[0;34m)\u001b[0m\u001b[0;34m\u001b[0m\u001b[0;34m\u001b[0m\u001b[0m\n\u001b[0m\u001b[1;32m      4\u001b[0m \u001b[0mest_rating\u001b[0m \u001b[0;34m=\u001b[0m \u001b[0mmodel_dy\u001b[0m\u001b[0;34m.\u001b[0m\u001b[0mKNN\u001b[0m\u001b[0;34m(\u001b[0m\u001b[0mk\u001b[0m\u001b[0;34m=\u001b[0m\u001b[0;36m1\u001b[0m\u001b[0;34m,\u001b[0m\u001b[0mtest_point\u001b[0m\u001b[0;34m=\u001b[0m\u001b[0mdata\u001b[0m\u001b[0;34m)\u001b[0m\u001b[0;34m\u001b[0m\u001b[0;34m\u001b[0m\u001b[0m\n\u001b[1;32m      5\u001b[0m \u001b[0mfinish\u001b[0m \u001b[0;34m=\u001b[0m \u001b[0mtime\u001b[0m\u001b[0;34m.\u001b[0m\u001b[0mtime\u001b[0m\u001b[0;34m(\u001b[0m\u001b[0;34m)\u001b[0m\u001b[0;34m\u001b[0m\u001b[0;34m\u001b[0m\u001b[0m\n",
      "\u001b[0;31mTypeError\u001b[0m: gradesc_dynamic() got an unexpected keyword argument 'epoch'"
     ]
    }
   ],
   "source": [
    "start = time.time()\n",
    "model_dy = mf(data, train_data,test_data)\n",
    "model_dy.gradesc_dynamic(f=10,lam=0.001, lrate=0.01, epoch=10)\n",
    "est_rating = model_dy.KNN(k=1,test_point=data)\n",
    "finish = time.time()\n",
    "print('traing time: {:.2f}s'.format(finish - start))\n",
    "model_dy.predict(train_data,test_data)\n",
    "finish_predict = time.time()\n",
    "print('predict time: {:.2f}s'.format(finish_predict - finish))"
   ]
  },
  {
   "cell_type": "code",
   "execution_count": null,
   "metadata": {},
   "outputs": [],
   "source": []
  },
  {
   "cell_type": "markdown",
   "metadata": {},
   "source": [
    "### Step 2.2 Parameter Tuning"
   ]
  },
  {
   "cell_type": "markdown",
   "metadata": {},
   "source": [
    "### 2.2.1：f"
   ]
  },
  {
   "cell_type": "markdown",
   "metadata": {},
   "source": [
    "##### Basic Model: A1 + P2"
   ]
  },
  {
   "cell_type": "code",
   "execution_count": 31,
   "metadata": {},
   "outputs": [
    {
     "name": "stdout",
     "output_type": "stream",
     "text": [
      "training RMSE: 1.0984582783593824\n",
      "test RMSE: 1.3016001457608517\n",
      "training RMSE: 1.0426084981463608\n",
      "test RMSE: 1.2578322157164394\n",
      "training RMSE: 1.300533933120139\n",
      "test RMSE: 1.461901053073905\n",
      "training RMSE: 3.6541551386777122\n",
      "test RMSE: 3.650276891059406\n",
      "training RMSE: 3.654237437638881\n",
      "test RMSE: 3.650334646761977\n"
     ]
    }
   ],
   "source": [
    "result = []\n",
    "for f in [5,10,15,20,90]:\n",
    "    model = mf(data, train_data,test_data)\n",
    "    model.gradesc(f = f,lam = 0, lrate = 0.01,epoch = 10,stopping_deriv = 0.01)\n",
    "    est_rating = model.KNN(k=1,test_point=data)\n",
    "    result.append(model.predict(train_data,test_data))"
   ]
  },
  {
   "cell_type": "code",
   "execution_count": 34,
   "metadata": {},
   "outputs": [
    {
     "data": {
      "image/png": "[encoded data removed]",
      "text/plain": [
       "<Figure size 432x288 with 1 Axes>"
      ]
     },
     "metadata": {
      "needs_background": "light"
     },
     "output_type": "display_data"
    }
   ],
   "source": [
    "train_rmse_M1 = [result[i][0] for i in range(len(result))]\n",
    "test_rmse_M1 = [result[i][1] for i in range(len(result))]\n",
    "np.savetxt('basic_train_rmse_tuning.txt',train_rmse_M1)\n",
    "np.savetxt('basic_test_rmse_tuning.txt',test_rmse_M1)\n",
    "\n",
    "plt.plot([5,10,15,20,90], train_rmse_M1, color=\"red\", linestyle=\"-\", marker=\"^\", label = 'train rmse')\n",
    "plt.plot([5,10,15,20,90], test_rmse_M1, color=\"blue\", linestyle=\"-\", marker=\"s\", label = 'test rmse')\n",
    "plt.legend(loc='upper right')\n",
    "plt.xlabel(\"f\")\n",
    "plt.ylabel(\"rmse\")\n",
    "\n",
    "plt.show() "
   ]
  },
  {
   "cell_type": "markdown",
   "metadata": {},
   "source": [
    "##### A1 + R1 + R2 + P2:"
   ]
  },
  {
   "cell_type": "code",
   "execution_count": 49,
   "metadata": {},
   "outputs": [
    {
     "name": "stdout",
     "output_type": "stream",
     "text": [
      "training RMSE: 1.3223373698631826\n",
      "test RMSE: 1.3252156736544904\n",
      "training RMSE: 1.2962208328629423\n",
      "test RMSE: 1.2980139200522365\n",
      "training RMSE: 1.2904905942119202\n",
      "test RMSE: 1.2845556782098815\n",
      "training RMSE: 1.2975434469893226\n",
      "test RMSE: 1.3058939290140286\n",
      "training RMSE: 1.3068941268431356\n",
      "test RMSE: 1.3122343321219547\n"
     ]
    }
   ],
   "source": [
    "result = []\n",
    "for f in [5,10,15,20,90]:\n",
    "    model_bias = mf(data, train_data,test_data)\n",
    "    model_bias.gradesc_bias(f = f,lam = 0.001, lrate = 0.01,epoch = 10, stopping_deriv = 0.01)\n",
    "    est_rating = model_bias.KNN(k=1,test_point=data)\n",
    "    result.append(model_bias.predict(train_data,test_data))"
   ]
  },
  {
   "cell_type": "code",
   "execution_count": 45,
   "metadata": {},
   "outputs": [
    {
     "data": {
      "image/png": "[encoded data removed]",
      "text/plain": [
       "<Figure size 432x288 with 1 Axes>"
      ]
     },
     "metadata": {
      "needs_background": "light"
     },
     "output_type": "display_data"
    }
   ],
   "source": [
    "train_rmse_M2_f = [result[i][0] for i in range(len(result))]\n",
    "test_rmse_M2_f = [result[i][1] for i in range(len(result))]\n",
    "np.savetxt('bias_train_rmse_tuningf.txt',train_rmse_M2_f)\n",
    "np.savetxt('bias_test_rmse_tuningf.txt',test_rmse_M2_f)\n",
    "\n",
    "plt.plot([5,10,15,20,90], train_rmse_M2_f, color=\"red\", linestyle=\"-\", marker=\"^\", label = 'train rmse')\n",
    "plt.plot([5,10,15,20,90], test_rmse_M2_f, color=\"blue\", linestyle=\"-\", marker=\"s\", label = 'test rmse')\n",
    "plt.legend(loc='upper right')\n",
    "plt.xlabel(\"f\")\n",
    "plt.ylabel(\"rmse\")\n",
    "\n",
    "plt.show() "
   ]
  },
  {
   "cell_type": "markdown",
   "metadata": {},
   "source": [
    "##### A1 + R3+ P2:"
   ]
  },
  {
   "cell_type": "code",
   "execution_count": null,
   "metadata": {},
   "outputs": [],
   "source": [
    "result = []\n",
    "for f in [5,10,15,20,90,100]:\n",
    "    model_dy = mf(data, train_data,test_data)\n",
    "    model_dy.gradesc_dynamic(f=f,lam=0.001, lrate=0.01, epoch=10)\n",
    "    est_rating = model_dy.KNN(k=1,test_point=data)\n",
    "    result.append(model.predict(train_data,test_data))"
   ]
  },
  {
   "cell_type": "code",
   "execution_count": null,
   "metadata": {},
   "outputs": [],
   "source": [
    "train_rmse_M3_f = [result[i][0] for i in range(len(result))]\n",
    "test_rmse_M3_f = [result[i][1] for i in range(len(result))]\n",
    "np.savetxt('dynamic_train_rmse_tuningf.txt',train_rmse_M3_f)\n",
    "np.savetxt('dynamic_test_rmse_tuningf.txt',test_rmse_M3_f)\n",
    "\n",
    "plt.plot([5,10,15,20,90], train_rmse_M3_f, color=\"red\", linestyle=\"-\", marker=\"^\", label = 'train rmse')\n",
    "plt.plot([5,10,15,20,90], test_rmse_M3_f, color=\"blue\", linestyle=\"-\", marker=\"s\", label = 'test rmse')\n",
    "plt.legend(loc='upper right')\n",
    "plt.xlabel(\"f\")\n",
    "plt.ylabel(\"rmse\")\n",
    "\n",
    "plt.show()"
   ]
  },
  {
   "cell_type": "markdown",
   "metadata": {},
   "source": [
    "### 2.2.1：lam"
   ]
  },
  {
   "cell_type": "markdown",
   "metadata": {},
   "source": [
    "##### Basic Model: lam = 0"
   ]
  },
  {
   "cell_type": "markdown",
   "metadata": {},
   "source": [
    "##### A1 + R1 + R2 + P2:"
   ]
  },
  {
   "cell_type": "code",
   "execution_count": 107,
   "metadata": {},
   "outputs": [
    {
     "name": "stdout",
     "output_type": "stream",
     "text": [
      "training RMSE: 1.2088776313453533\n",
      "test RMSE: 1.2018907322658954\n",
      "training RMSE: 1.2088776313453533\n",
      "test RMSE: 1.2018907322658954\n",
      "training RMSE: 1.2088776313453533\n",
      "test RMSE: 1.2018907322658954\n",
      "training RMSE: 1.2088776313453533\n",
      "test RMSE: 1.2018907322658954\n",
      "training RMSE: 1.2088776313453533\n",
      "test RMSE: 1.2018907322658954\n"
     ]
    }
   ],
   "source": [
    "result = []\n",
    "for lam in [0.0001, 0.001, 0.03, 0.1, 0.3]:\n",
    "    model_bias = mf(data, train_data,test_data)\n",
    "    model_bias.gradesc_bias(f = 10,lam = lam, lrate = 0.01,epoch = 10, stopping_deriv = 0.01)\n",
    "    est_rating = model_bias.KNN(k=1,test_point=data)\n",
    "    result.append(model.predict(train_data,test_data))"
   ]
  },
  {
   "cell_type": "code",
   "execution_count": 50,
   "metadata": {},
   "outputs": [
    {
     "data": {
      "image/png": "[encoded data removed]",
      "text/plain": [
       "<Figure size 432x288 with 1 Axes>"
      ]
     },
     "metadata": {
      "needs_background": "light"
     },
     "output_type": "display_data"
    }
   ],
   "source": [
    "train_rmse_M2_lam = [result[i][0] for i in range(len(result))]\n",
    "test_rmse_M2_lam = [result[i][1] for i in range(len(result))]\n",
    "np.savetxt('bias_train_rmse_tuninglam.txt',train_rmse_M2_lam)\n",
    "np.savetxt('bias_test_rmse_tuninglam.txt',test_rmse_M2_lam)\n",
    "\n",
    "plt.plot([0.0001, 0.001, 0.03, 0.1, 0.3], train_rmse_M2_lam, color=\"red\", linestyle=\"-\", marker=\"^\", label = 'train rmse')\n",
    "plt.plot([0.0001, 0.001, 0.03, 0.1, 0.3], test_rmse_M2_lam, color=\"blue\", linestyle=\"-\", marker=\"s\", label = 'test rmse')\n",
    "plt.legend(loc='upper right')\n",
    "plt.xlabel(\"lam\")\n",
    "plt.ylabel(\"rmse\")\n",
    "\n",
    "plt.show() "
   ]
  },
  {
   "cell_type": "markdown",
   "metadata": {},
   "source": [
    "##### A1 + R3 + P2:"
   ]
  },
  {
   "cell_type": "code",
   "execution_count": null,
   "metadata": {},
   "outputs": [],
   "source": [
    "result = []\n",
    "for lam in [0.0001, 0.001, 0.03, 0.1, 0.3]:\n",
    "    model = mf(data, train_data,test_data)\n",
    "    model.gradesc_dynamic(f = 10,lam = lam, lrate = 0.01,epoch = 10)\n",
    "    est_rating = model.KNN(k=1,test_point=data)\n",
    "    result.append(model.predict(train_data,test_data))"
   ]
  },
  {
   "cell_type": "code",
   "execution_count": null,
   "metadata": {},
   "outputs": [],
   "source": [
    "train_rmse_M3_lam = [result[i][0] for i in range(len(result))]\n",
    "test_rmse_M3_lam = [result[i][1] for i in range(len(result))]\n",
    "np.savetxt('dynamic_train_rmse_tuninglam.txt',train_rmse_M3_lam)\n",
    "np.savetxt('dynamic_test_rmse_tuninglam.txt',test_rmse_M3_lam)\n",
    "\n",
    "plt.plot([0.0001, 0.001, 0.03, 0.1, 0.3], train_rmse_M3_lam, color=\"red\", linestyle=\"-\", marker=\"^\", label = 'train rmse')\n",
    "plt.plot([0.0001, 0.001, 0.03, 0.1, 0.3], test_rmse_M3_lam, color=\"blue\", linestyle=\"-\", marker=\"s\", label = 'test rmse')\n",
    "plt.legend(loc='upper right')\n",
    "plt.xlabel(\"lam\")\n",
    "plt.ylabel(\"rmse\")\n",
    "\n",
    "plt.show()"
   ]
  },
  {
   "cell_type": "markdown",
   "metadata": {},
   "source": [
    "## Step 4 Evaluation"
   ]
  }
 ],
 "metadata": {
  "kernelspec": {
   "display_name": "Python 3",
   "language": "python",
   "name": "python3"
  },
  "language_info": {
   "codemirror_mode": {
    "name": "ipython",
    "version": 3
   },
   "file_extension": ".py",
   "mimetype": "text/x-python",
   "name": "python",
   "nbconvert_exporter": "python",
   "pygments_lexer": "ipython3",
   "version": "3.7.4"
  },
  "toc": {
   "base_numbering": 1,
   "nav_menu": {},
   "number_sections": true,
   "sideBar": true,
   "skip_h1_title": false,
   "title_cell": "Table of Contents",
   "title_sidebar": "Contents",
   "toc_cell": false,
   "toc_position": {},
   "toc_section_display": true,
   "toc_window_display": false
  }
 },
 "nbformat": 4,
 "nbformat_minor": 2
}
