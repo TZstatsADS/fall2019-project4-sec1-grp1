{
 "cells": [
  {
   "cell_type": "markdown",
   "metadata": {},
   "source": [
    "# Project 4 - Group 1"
   ]
  },
  {
   "cell_type": "markdown",
   "metadata": {},
   "source": [
    "In this project, you are going to explore matrix factorization methods for recommender system. The goal is to match consumers with most appropriate products. Matrix factorization methods characterize both items and users by vectors of factors inferred from item rating patterns. High correspondence between item and user factors leads to a recommendation. Matrix factorization generally has 3 parts:\n",
    "+ factorization algorithm\n",
    "\n",
    "+ regularization\n",
    "\n",
    "+ postpocessing\n",
    "\n",
    "Our group's project aims to compare \n",
    "+ A1+P2\n",
    "+ A1+P2+R1+R2\n",
    "+ A1+P2+R3\n",
    "That is, to compare effect of regularizations given (A1+P2)"
   ]
  },
  {
   "cell_type": "markdown",
   "metadata": {},
   "source": [
    "## Step 1 Load Data and Train-test Split"
   ]
  },
  {
   "cell_type": "code",
   "execution_count": 1,
   "metadata": {
    "ExecuteTime": {
     "end_time": "2019-11-20T00:38:52.218764Z",
     "start_time": "2019-11-20T00:38:48.789847Z"
    }
   },
   "outputs": [],
   "source": [
    "import os\n",
    "import pandas as pd\n",
    "import numpy as np\n",
    "import matplotlib.pyplot as plt\n",
    "os.chdir('/Users/nicholeyao/Downloads/fall2019-project4-sec1-grp1-master 6/lib')"
   ]
  },
  {
   "cell_type": "code",
   "execution_count": 2,
   "metadata": {
    "ExecuteTime": {
     "end_time": "2019-11-20T00:38:52.371321Z",
     "start_time": "2019-11-20T00:38:52.221721Z"
    }
   },
   "outputs": [
    {
     "data": {
      "text/plain": [
       "(80669, 20167)"
      ]
     },
     "execution_count": 2,
     "metadata": {},
     "output_type": "execute_result"
    }
   ],
   "source": [
    "data = pd.read_csv('../data/ml-latest-small/ratings.csv')\n",
    "few_comments_idx = data['movieId'].value_counts()<5\n",
    "few_comments_idx = few_comments_idx.index\n",
    "\n",
    "test_data = data[(data['movieId'].isin(few_comments_idx))].sample(frac = .2)\n",
    "train_data = data.drop(test_data.index)\n",
    "train_data.shape[0],test_data.shape[0]"
   ]
  },
  {
   "cell_type": "markdown",
   "metadata": {},
   "source": [
    "## Step 2 Matrix Factorization"
   ]
  },
  {
   "cell_type": "markdown",
   "metadata": {},
   "source": [
    "### Step 2.1 Algorithm and Regularization"
   ]
  },
  {
   "cell_type": "code",
   "execution_count": 3,
   "metadata": {
    "ExecuteTime": {
     "end_time": "2019-11-20T00:38:55.607851Z",
     "start_time": "2019-11-20T00:38:52.373315Z"
    }
   },
   "outputs": [],
   "source": [
    "import time\n",
    "from Matrix_Factorization_A1 import Matrix_Factorization as mf"
   ]
  },
  {
   "cell_type": "markdown",
   "metadata": {},
   "source": [
    "### Basic Model: A1+ P2"
   ]
  },
  {
   "cell_type": "code",
   "execution_count": 4,
   "metadata": {
    "ExecuteTime": {
     "end_time": "2019-11-20T01:41:34.498302Z",
     "start_time": "2019-11-20T01:40:31.305792Z"
    }
   },
   "outputs": [
    {
     "name": "stdout",
     "output_type": "stream",
     "text": [
      "traing time: 74.05s\n",
      "training RMSE: 1.1779724681554604\n",
      "test RMSE: 1.3872030754514906\n",
      "predict time: 1.52s\n"
     ]
    }
   ],
   "source": [
    "start = time.time()\n",
    "model = mf(data, train_data,test_data)\n",
    "model.gradesc(f = 10,lam = 0, lrate = 0.01,epoch = 10,stopping_deriv = 0.01)\n",
    "est_rating = model.KNN(k=1,test_point=data)\n",
    "finish = time.time()\n",
    "print('traing time: {:.2f}s'.format(finish - start))\n",
    "model.predict(train_data,test_data)\n",
    "finish_predict = time.time()\n",
    "print('predict time: {:.2f}s'.format(finish_predict - finish))"
   ]
  },
  {
   "cell_type": "markdown",
   "metadata": {},
   "source": [
    "### A1+ R1+ R2 + P2"
   ]
  },
  {
   "cell_type": "code",
   "execution_count": 6,
   "metadata": {
    "ExecuteTime": {
     "end_time": "2019-11-20T01:42:37.880085Z",
     "start_time": "2019-11-20T01:41:34.502292Z"
    }
   },
   "outputs": [
    {
     "name": "stdout",
     "output_type": "stream",
     "text": [
      "traing time: 48.47s\n",
      "training RMSE: 1.293427249987574\n",
      "test RMSE: 1.299690120010309\n",
      "predict time: 1.34s\n"
     ]
    }
   ],
   "source": [
    "start = time.time()\n",
    "model_bias = mf(data, train_data,test_data)\n",
    "model_bias.gradesc_bias(f = 10,lam = 0.3, lrate = 0.01,epoch = 10,stopping_deriv = 0.01)\n",
    "est_rating = model_bias.KNN(k=1,test_point=data)\n",
    "finish = time.time()\n",
    "print('traing time: {:.2f}s'.format(finish - start))\n",
    "model_bias.predict(train_data,test_data)\n",
    "finish_predict = time.time()\n",
    "print('predict time: {:.2f}s'.format(finish_predict - finish))"
   ]
  },
  {
   "cell_type": "markdown",
   "metadata": {},
   "source": [
    "### A1+ R3 + P2"
   ]
  },
  {
   "cell_type": "code",
   "execution_count": 9,
   "metadata": {},
   "outputs": [
    {
     "name": "stdout",
     "output_type": "stream",
     "text": [
      "traing time: 193.99s\n",
      "training RMSE: 1.951583236864158\n",
      "test RMSE: 1.9360600415169795\n",
      "predict time: 1.04s\n"
     ]
    }
   ],
   "source": [
    "start = time.time()\n",
    "model_dy = mf(data, train_data,test_data)\n",
    "model_dy.gradesc_dynamic(f=10,lam=0.3, lrate=0.01, epoch=10)\n",
    "est_rating = model_dy.KNN(k=1,test_point=data)\n",
    "finish = time.time()\n",
    "print('traing time: {:.2f}s'.format(finish - start))\n",
    "model_dy.predict(train_data,test_data)\n",
    "finish_predict = time.time()\n",
    "print('predict time: {:.2f}s'.format(finish_predict - finish))"
   ]
  },
  {
   "cell_type": "markdown",
   "metadata": {},
   "source": [
    "### Step 2.2 Parameter Tuning"
   ]
  },
  {
   "cell_type": "markdown",
   "metadata": {},
   "source": [
    "### 2.2.1：f"
   ]
  },
  {
   "cell_type": "markdown",
   "metadata": {},
   "source": [
    "##### Basic Model: A1 + P2"
   ]
  },
  {
   "cell_type": "code",
   "execution_count": 31,
   "metadata": {},
   "outputs": [
    {
     "name": "stdout",
     "output_type": "stream",
     "text": [
      "training RMSE: 1.0984582783593824\n",
      "test RMSE: 1.3016001457608517\n",
      "training RMSE: 1.0426084981463608\n",
      "test RMSE: 1.2578322157164394\n",
      "training RMSE: 1.300533933120139\n",
      "test RMSE: 1.461901053073905\n",
      "training RMSE: 3.6541551386777122\n",
      "test RMSE: 3.650276891059406\n",
      "training RMSE: 3.654237437638881\n",
      "test RMSE: 3.650334646761977\n"
     ]
    }
   ],
   "source": [
    "result = []\n",
    "for f in [5,10,15,20,90]:\n",
    "    model = mf(data, train_data,test_data)\n",
    "    model.gradesc(f = f,lam = 0, lrate = 0.01,epoch = 10,stopping_deriv = 0.01)\n",
    "    est_rating = model.KNN(k=1,test_point=data)\n",
    "    result.append(model.predict(train_data,test_data))"
   ]
  },
  {
   "cell_type": "code",
   "execution_count": 34,
   "metadata": {},
   "outputs": [
    {
     "data": {
      "image/png": "[encoded data removed]",
      "text/plain": [
       "<Figure size 432x288 with 1 Axes>"
      ]
     },
     "metadata": {
      "needs_background": "light"
     },
     "output_type": "display_data"
    }
   ],
   "source": [
    "train_rmse_M1 = [result[i][0] for i in range(len(result))]\n",
    "test_rmse_M1 = [result[i][1] for i in range(len(result))]\n",
    "np.savetxt('basic_train_rmse_tuning.txt',train_rmse_M1)\n",
    "np.savetxt('basic_test_rmse_tuning.txt',test_rmse_M1)\n",
    "\n",
    "plt.plot([5,10,15,20,90], train_rmse_M1, color=\"red\", linestyle=\"-\", marker=\"^\", label = 'train rmse')\n",
    "plt.plot([5,10,15,20,90], test_rmse_M1, color=\"blue\", linestyle=\"-\", marker=\"s\", label = 'test rmse')\n",
    "plt.legend(loc='upper right')\n",
    "plt.xlabel(\"f\")\n",
    "plt.ylabel(\"rmse\")\n",
    "\n",
    "plt.show() "
   ]
  },
  {
   "cell_type": "markdown",
   "metadata": {},
   "source": [
    "##### A1 + R1 + R2 + P2:"
   ]
  },
  {
   "cell_type": "code",
   "execution_count": 49,
   "metadata": {},
   "outputs": [
    {
     "name": "stdout",
     "output_type": "stream",
     "text": [
      "training RMSE: 1.3223373698631826\n",
      "test RMSE: 1.3252156736544904\n",
      "training RMSE: 1.2962208328629423\n",
      "test RMSE: 1.2980139200522365\n",
      "training RMSE: 1.2904905942119202\n",
      "test RMSE: 1.2845556782098815\n",
      "training RMSE: 1.2975434469893226\n",
      "test RMSE: 1.3058939290140286\n",
      "training RMSE: 1.3068941268431356\n",
      "test RMSE: 1.3122343321219547\n"
     ]
    }
   ],
   "source": [
    "result = []\n",
    "for f in [5,10,15,20,90]:\n",
    "    model_bias = mf(data, train_data,test_data)\n",
    "    model_bias.gradesc_bias(f = f,lam = 0.001, lrate = 0.01,epoch = 10, stopping_deriv = 0.01)\n",
    "    est_rating = model_bias.KNN(k=1,test_point=data)\n",
    "    result.append(model_bias.predict(train_data,test_data))"
   ]
  },
  {
   "cell_type": "code",
   "execution_count": 21,
   "metadata": {},
   "outputs": [
    {
     "data": {
      "image/png": "[encoded data removed]",
      "text/plain": [
       "<Figure size 432x288 with 1 Axes>"
      ]
     },
     "metadata": {
      "needs_background": "light"
     },
     "output_type": "display_data"
    }
   ],
   "source": [
    "train_rmse_M2_f = [result[i][0] for i in range(len(result))]\n",
    "test_rmse_M2_f = [result[i][1] for i in range(len(result))]\n",
    "np.savetxt('bias_train_rmse_tuningf.txt',train_rmse_M2_f)\n",
    "np.savetxt('bias_test_rmse_tuningf.txt',test_rmse_M2_f)\n",
    "\n",
    "plt.plot([5,10,15,20,90], train_rmse_M2_f, color=\"red\", linestyle=\"-\", marker=\"^\", label = 'train rmse')\n",
    "plt.plot([5,10,15,20,90], test_rmse_M2_f, color=\"blue\", linestyle=\"-\", marker=\"s\", label = 'test rmse')\n",
    "plt.legend(loc='upper right')\n",
    "plt.xlabel(\"f\")\n",
    "plt.ylabel(\"rmse\")\n",
    "\n",
    "plt.show() "
   ]
  },
  {
   "cell_type": "markdown",
   "metadata": {},
   "source": [
    "##### A1 + R3+ P2:"
   ]
  },
  {
   "cell_type": "code",
   "execution_count": 18,
   "metadata": {},
   "outputs": [
    {
     "name": "stdout",
     "output_type": "stream",
     "text": [
      "training RMSE: 1.431912528890444\n",
      "test RMSE: 1.427013817619412\n",
      "training RMSE: 1.4365513546371012\n",
      "test RMSE: 1.438035616075929\n",
      "training RMSE: 1.450132340845962\n",
      "test RMSE: 1.4535595998205524\n",
      "training RMSE: 1.4107163880321216\n",
      "test RMSE: 1.4087175967135313\n",
      "training RMSE: 1.4339888674379977\n",
      "test RMSE: 1.4336846014204663\n"
     ]
    }
   ],
   "source": [
    "result = []\n",
    "for f in [5,10,15,20,90]:\n",
    "    model_dy = mf(data, train_data,test_data)\n",
    "    model_dy.gradesc_dynamic(f=f,lam=0.001, lrate=0.01, epoch=10)\n",
    "    est_rating = model_dy.KNN(k=1,test_point=data)\n",
    "    result.append(model_dy.predict(train_data,test_data))"
   ]
  },
  {
   "cell_type": "code",
   "execution_count": 19,
   "metadata": {},
   "outputs": [
    {
     "data": {
      "image/png": "[encoded data removed]",
      "text/plain": [
       "<Figure size 432x288 with 1 Axes>"
      ]
     },
     "metadata": {
      "needs_background": "light"
     },
     "output_type": "display_data"
    }
   ],
   "source": [
    "train_rmse_M3_f = [result[i][0] for i in range(len(result))]\n",
    "test_rmse_M3_f = [result[i][1] for i in range(len(result))]\n",
    "np.savetxt('dynamic_train_rmse_tuningf.txt',train_rmse_M3_f)\n",
    "np.savetxt('dynamic_test_rmse_tuningf.txt',test_rmse_M3_f)\n",
    "\n",
    "plt.plot([5,10,15,20,90], train_rmse_M3_f, color=\"red\", linestyle=\"-\", marker=\"^\", label = 'train rmse')\n",
    "plt.plot([5,10,15,20,90], test_rmse_M3_f, color=\"blue\", linestyle=\"-\", marker=\"s\", label = 'test rmse')\n",
    "plt.legend(loc='upper right')\n",
    "plt.xlabel(\"f\")\n",
    "plt.ylabel(\"rmse\")\n",
    "\n",
    "plt.show()"
   ]
  },
  {
   "cell_type": "markdown",
   "metadata": {},
   "source": [
    "### 2.2.1：lam"
   ]
  },
  {
   "cell_type": "markdown",
   "metadata": {},
   "source": [
    "##### Basic Model: lam = 0"
   ]
  },
  {
   "cell_type": "markdown",
   "metadata": {},
   "source": [
    "##### A1 + R1 + R2 + P2:"
   ]
  },
  {
   "cell_type": "code",
   "execution_count": 107,
   "metadata": {},
   "outputs": [
    {
     "name": "stdout",
     "output_type": "stream",
     "text": [
      "training RMSE: 1.2088776313453533\n",
      "test RMSE: 1.2018907322658954\n",
      "training RMSE: 1.2088776313453533\n",
      "test RMSE: 1.2018907322658954\n",
      "training RMSE: 1.2088776313453533\n",
      "test RMSE: 1.2018907322658954\n",
      "training RMSE: 1.2088776313453533\n",
      "test RMSE: 1.2018907322658954\n",
      "training RMSE: 1.2088776313453533\n",
      "test RMSE: 1.2018907322658954\n"
     ]
    }
   ],
   "source": [
    "result = []\n",
    "for lam in [0.0001, 0.001, 0.03, 0.1, 0.3]:\n",
    "    model_bias = mf(data, train_data,test_data)\n",
    "    model_bias.gradesc_bias(f = 10,lam = lam, lrate = 0.01,epoch = 10, stopping_deriv = 0.01)\n",
    "    est_rating = model_bias.KNN(k=1,test_point=data)\n",
    "    result.append(model_bias.predict(train_data,test_data))"
   ]
  },
  {
   "cell_type": "code",
   "execution_count": 50,
   "metadata": {},
   "outputs": [
    {
     "data": {
      "image/png": "[encoded data removed]",
      "text/plain": [
       "<Figure size 432x288 with 1 Axes>"
      ]
     },
     "metadata": {
      "needs_background": "light"
     },
     "output_type": "display_data"
    }
   ],
   "source": [
    "train_rmse_M2_lam = [result[i][0] for i in range(len(result))]\n",
    "test_rmse_M2_lam = [result[i][1] for i in range(len(result))]\n",
    "np.savetxt('bias_train_rmse_tuninglam.txt',train_rmse_M2_lam)\n",
    "np.savetxt('bias_test_rmse_tuninglam.txt',test_rmse_M2_lam)\n",
    "\n",
    "plt.plot([0.0001, 0.001, 0.03, 0.1, 0.3], train_rmse_M2_lam, color=\"red\", linestyle=\"-\", marker=\"^\", label = 'train rmse')\n",
    "plt.plot([0.0001, 0.001, 0.03, 0.1, 0.3], test_rmse_M2_lam, color=\"blue\", linestyle=\"-\", marker=\"s\", label = 'test rmse')\n",
    "plt.legend(loc='upper right')\n",
    "plt.xlabel(\"lam\")\n",
    "plt.ylabel(\"rmse\")\n",
    "\n",
    "plt.show() "
   ]
  },
  {
   "cell_type": "markdown",
   "metadata": {},
   "source": [
    "##### A1 + R3 + P2:"
   ]
  },
  {
   "cell_type": "code",
   "execution_count": 11,
   "metadata": {},
   "outputs": [
    {
     "name": "stdout",
     "output_type": "stream",
     "text": [
      "training RMSE: 1.425170084960983\n",
      "test RMSE: 1.4387183883256827\n",
      "training RMSE: 1.458173487666712\n",
      "test RMSE: 1.4567160821837177\n",
      "training RMSE: 1.4737666976379025\n",
      "test RMSE: 1.4684708044153854\n",
      "training RMSE: 1.6522586551070415\n",
      "test RMSE: 1.6459483393993743\n",
      "training RMSE: 1.9822969127646433\n",
      "test RMSE: 1.9811545108505149\n"
     ]
    }
   ],
   "source": [
    "result = []\n",
    "for lam in [0.0001, 0.001, 0.03, 0.1, 0.3]:\n",
    "    model = mf(data, train_data,test_data)\n",
    "    model.gradesc_dynamic(f = 10,lam = lam, lrate = 0.01,epoch = 10)\n",
    "    est_rating = model.KNN(k=1,test_point=data)\n",
    "    result.append(model.predict(train_data,test_data))"
   ]
  },
  {
   "cell_type": "code",
   "execution_count": 15,
   "metadata": {},
   "outputs": [
    {
     "data": {
      "image/png": "[encoded data removed]",
      "text/plain": [
       "<Figure size 432x288 with 1 Axes>"
      ]
     },
     "metadata": {
      "needs_background": "light"
     },
     "output_type": "display_data"
    }
   ],
   "source": [
    "train_rmse_M3_lam = [result[i][0] for i in range(len(result))]\n",
    "test_rmse_M3_lam = [result[i][1] for i in range(len(result))]\n",
    "np.savetxt('dynamic_train_rmse_tuninglam.txt',train_rmse_M3_lam)\n",
    "np.savetxt('dynamic_test_rmse_tuninglam.txt',test_rmse_M3_lam)\n",
    "\n",
    "plt.plot([0.0001, 0.001, 0.03, 0.1, 0.3], train_rmse_M3_lam, color=\"red\", linestyle=\"-\", marker=\"^\", label = 'train rmse')\n",
    "plt.plot([0.0001, 0.001, 0.03, 0.1, 0.3], test_rmse_M3_lam, color=\"blue\", linestyle=\"-\", marker=\"s\", label = 'test rmse')\n",
    "plt.legend(loc='upper right')\n",
    "plt.xlabel(\"lam\")\n",
    "plt.ylabel(\"rmse\")\n",
    "\n",
    "plt.show()"
   ]
  },
  {
   "cell_type": "markdown",
   "metadata": {},
   "source": [
    "## Step 4 Conclusion"
   ]
  },
  {
   "cell_type": "markdown",
   "metadata": {},
   "source": [
    "### With the same parameters: (f = 10, lam = 0.3, epoch = 10)"
   ]
  },
  {
   "cell_type": "markdown",
   "metadata": {},
   "source": [
    "A1 + P2 :\n",
    "training RMSE: 1.1779724681554604\n",
    "test RMSE: 1.3872030754514906\n",
    "\n",
    "A1 + R1 + R2 + P2:\n",
    "training RMSE: 1.293427249987574\n",
    "test RMSE: 1.299690120010309\n",
    "    \n",
    "A1 + R3 + P2:\n",
    "training RMSE: 1.951583236864158\n",
    "test RMSE: 1.9360600415169795"
   ]
  },
  {
   "cell_type": "markdown",
   "metadata": {},
   "source": [
    "### With parameters after tuning:"
   ]
  },
  {
   "cell_type": "code",
   "execution_count": 20,
   "metadata": {},
   "outputs": [
    {
     "name": "stdout",
     "output_type": "stream",
     "text": [
      "M1traing time: 62.33s\n",
      "training RMSE: 1.1601664096651256\n",
      "test RMSE: 1.3788696474750948\n",
      "M1predict time: 1.00s\n",
      "M2traing time: 37.49s\n",
      "training RMSE: 1.2852873715610862\n",
      "test RMSE: 1.277546072448086\n",
      "M2predict time: 0.97s\n",
      "M3traing time: 163.91s\n",
      "training RMSE: 1.4119053614401895\n",
      "test RMSE: 1.4076442066471793\n",
      "M3predict time: 0.99s\n"
     ]
    }
   ],
   "source": [
    "start = time.time()\n",
    "model = mf(data, train_data,test_data)\n",
    "model.gradesc(f = 10,lam = 0, lrate = 0.01,epoch = 10,stopping_deriv = 0.01)\n",
    "est_rating = model.KNN(k=1,test_point=data)\n",
    "finish = time.time()\n",
    "print('M1traing time: {:.2f}s'.format(finish - start))\n",
    "model.predict(train_data,test_data)\n",
    "finish_predict = time.time()\n",
    "print('M1predict time: {:.2f}s'.format(finish_predict - finish))\n",
    "\n",
    "\n",
    "start = time.time()\n",
    "model_bias = mf(data, train_data,test_data)\n",
    "model_bias.gradesc_bias(f = 20,lam = 0.01, lrate = 0.01,epoch = 10,stopping_deriv = 0.01)\n",
    "est_rating = model_bias.KNN(k=1,test_point=data)\n",
    "finish = time.time()\n",
    "print('M2traing time: {:.2f}s'.format(finish - start))\n",
    "model_bias.predict(train_data,test_data)\n",
    "finish_predict = time.time()\n",
    "print('M2predict time: {:.2f}s'.format(finish_predict - finish))\n",
    "\n",
    "\n",
    "start = time.time()\n",
    "model_dy = mf(data, train_data,test_data)\n",
    "model_dy.gradesc_dynamic(f=20,lam=0.0001, lrate=0.01, epoch=10)\n",
    "est_rating = model_dy.KNN(k=1,test_point=data)\n",
    "finish = time.time()\n",
    "print('M3traing time: {:.2f}s'.format(finish - start))\n",
    "model_dy.predict(train_data,test_data)\n",
    "finish_predict = time.time()\n",
    "print('M3predict time: {:.2f}s'.format(finish_predict - finish))\n"
   ]
  },
  {
   "cell_type": "markdown",
   "metadata": {},
   "source": [
    "A1 + P2 :\n",
    "training RMSE: 1.1601664096651256\n",
    "test RMSE: 1.3788696474750948\n",
    "\n",
    "A1 + R1 + R2 + P2:\n",
    "training RMSE: 1.2852873715610862\n",
    "test RMSE: 1.277546072448086\n",
    "    \n",
    "A1 + R3 + P2:\n",
    "training RMSE: 1.4119053614401895\n",
    "test RMSE: 1.4076442066471793 "
   ]
  },
  {
   "cell_type": "markdown",
   "metadata": {},
   "source": [
    "By comparing the RMSEs, we can see that although RMSE is not improved significantly, by adding regularization, the difference between training RMSE and test RMSE is smaller, indicating that the problem of overfitting is improved through regularization. \n",
    "\n",
    "With R1 and R2, although the RMSE of training set did not improve, we did have a more accurate prediction for test dataset. \n",
    "\n",
    "With temporal dynamic regularization, we did not find a higher RMSE than our base model. One of the reasons could be that there are many parameters that we can choose, and the parameters that we found might not be the most approprate one base on the dataset. Notice that after we tuned two of our parameters, RMSE did decrease a lot.  \n"
   ]
  }
 ],
 "metadata": {
  "kernelspec": {
   "display_name": "Python 3",
   "language": "python",
   "name": "python3"
  },
  "language_info": {
   "codemirror_mode": {
    "name": "ipython",
    "version": 3
   },
   "file_extension": ".py",
   "mimetype": "text/x-python",
   "name": "python",
   "nbconvert_exporter": "python",
   "pygments_lexer": "ipython3",
   "version": "3.7.4"
  },
  "toc": {
   "base_numbering": 1,
   "nav_menu": {},
   "number_sections": true,
   "sideBar": true,
   "skip_h1_title": false,
   "title_cell": "Table of Contents",
   "title_sidebar": "Contents",
   "toc_cell": false,
   "toc_position": {},
   "toc_section_display": true,
   "toc_window_display": false
  }
 },
 "nbformat": 4,
 "nbformat_minor": 2
}
