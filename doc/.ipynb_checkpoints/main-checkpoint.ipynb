{
 "cells": [
  {
   "cell_type": "code",
   "execution_count": 1,
   "metadata": {},
   "outputs": [],
   "source": [
    "import  random \n",
    "import pandas as pd \n",
    "import numpy as np \n",
    "from sklearn.metrics import mean_squared_error"
   ]
  },
  {
   "cell_type": "code",
   "execution_count": 2,
   "metadata": {},
   "outputs": [],
   "source": [
    "data = pd.read_csv('../data/ml-latest-small/ratings.csv')"
   ]
  },
  {
   "cell_type": "code",
   "execution_count": 10,
   "metadata": {},
   "outputs": [],
   "source": [
    "test_data = data.sample(frac =.99)\n",
    "train_data = data.drop(test_data.index)"
   ]
  },
  {
   "cell_type": "code",
   "execution_count": 4,
   "metadata": {},
   "outputs": [
    {
     "data": {
      "text/html": [
       "<div>\n",
       "<style scoped>\n",
       "    .dataframe tbody tr th:only-of-type {\n",
       "        vertical-align: middle;\n",
       "    }\n",
       "\n",
       "    .dataframe tbody tr th {\n",
       "        vertical-align: top;\n",
       "    }\n",
       "\n",
       "    .dataframe thead th {\n",
       "        text-align: right;\n",
       "    }\n",
       "</style>\n",
       "<table border=\"1\" class=\"dataframe\">\n",
       "  <thead>\n",
       "    <tr style=\"text-align: right;\">\n",
       "      <th></th>\n",
       "      <th>userId</th>\n",
       "      <th>movieId</th>\n",
       "      <th>rating</th>\n",
       "      <th>timestamp</th>\n",
       "    </tr>\n",
       "  </thead>\n",
       "  <tbody>\n",
       "    <tr>\n",
       "      <td>1</td>\n",
       "      <td>1</td>\n",
       "      <td>3</td>\n",
       "      <td>4.0</td>\n",
       "      <td>964981247</td>\n",
       "    </tr>\n",
       "    <tr>\n",
       "      <td>2</td>\n",
       "      <td>1</td>\n",
       "      <td>6</td>\n",
       "      <td>4.0</td>\n",
       "      <td>964982224</td>\n",
       "    </tr>\n",
       "    <tr>\n",
       "      <td>3</td>\n",
       "      <td>1</td>\n",
       "      <td>47</td>\n",
       "      <td>5.0</td>\n",
       "      <td>964983815</td>\n",
       "    </tr>\n",
       "    <tr>\n",
       "      <td>4</td>\n",
       "      <td>1</td>\n",
       "      <td>50</td>\n",
       "      <td>5.0</td>\n",
       "      <td>964982931</td>\n",
       "    </tr>\n",
       "    <tr>\n",
       "      <td>5</td>\n",
       "      <td>1</td>\n",
       "      <td>70</td>\n",
       "      <td>3.0</td>\n",
       "      <td>964982400</td>\n",
       "    </tr>\n",
       "    <tr>\n",
       "      <td>...</td>\n",
       "      <td>...</td>\n",
       "      <td>...</td>\n",
       "      <td>...</td>\n",
       "      <td>...</td>\n",
       "    </tr>\n",
       "    <tr>\n",
       "      <td>100831</td>\n",
       "      <td>610</td>\n",
       "      <td>166534</td>\n",
       "      <td>4.0</td>\n",
       "      <td>1493848402</td>\n",
       "    </tr>\n",
       "    <tr>\n",
       "      <td>100832</td>\n",
       "      <td>610</td>\n",
       "      <td>168248</td>\n",
       "      <td>5.0</td>\n",
       "      <td>1493850091</td>\n",
       "    </tr>\n",
       "    <tr>\n",
       "      <td>100833</td>\n",
       "      <td>610</td>\n",
       "      <td>168250</td>\n",
       "      <td>5.0</td>\n",
       "      <td>1494273047</td>\n",
       "    </tr>\n",
       "    <tr>\n",
       "      <td>100834</td>\n",
       "      <td>610</td>\n",
       "      <td>168252</td>\n",
       "      <td>5.0</td>\n",
       "      <td>1493846352</td>\n",
       "    </tr>\n",
       "    <tr>\n",
       "      <td>100835</td>\n",
       "      <td>610</td>\n",
       "      <td>170875</td>\n",
       "      <td>3.0</td>\n",
       "      <td>1493846415</td>\n",
       "    </tr>\n",
       "  </tbody>\n",
       "</table>\n",
       "<p>80669 rows × 4 columns</p>\n",
       "</div>"
      ],
      "text/plain": [
       "        userId  movieId  rating   timestamp\n",
       "1            1        3     4.0   964981247\n",
       "2            1        6     4.0   964982224\n",
       "3            1       47     5.0   964983815\n",
       "4            1       50     5.0   964982931\n",
       "5            1       70     3.0   964982400\n",
       "...        ...      ...     ...         ...\n",
       "100831     610   166534     4.0  1493848402\n",
       "100832     610   168248     5.0  1493850091\n",
       "100833     610   168250     5.0  1494273047\n",
       "100834     610   168252     5.0  1493846352\n",
       "100835     610   170875     3.0  1493846415\n",
       "\n",
       "[80669 rows x 4 columns]"
      ]
     },
     "execution_count": 4,
     "metadata": {},
     "output_type": "execute_result"
    }
   ],
   "source": [
    "train_data"
   ]
  },
  {
   "cell_type": "code",
   "execution_count": 5,
   "metadata": {},
   "outputs": [],
   "source": [
    "U = len(data['userId'].unique())\n",
    "I = len(data['movieId'].unique())"
   ]
  },
  {
   "cell_type": "code",
   "execution_count": 6,
   "metadata": {},
   "outputs": [],
   "source": [
    "#Define a function to calculate RMSE\n",
    "def RMSE(rating, est_rating):\n",
    "    sqr_error = []\n",
    "    for r in range(rating.shape[0]):\n",
    "        u = rating.iloc[r]['userId']\n",
    "        i = rating.iloc[r]['movieId']\n",
    "        r_ui = rating.iloc[r]['rating']\n",
    "        est_r_ui = est_rating.loc[i,u]\n",
    "        sqr_error.append((r_ui-est_r_ui)**2)\n",
    "    return np.sqrt(np.mean(sqr_error))\n"
   ]
  },
  {
   "cell_type": "code",
   "execution_count": 7,
   "metadata": {},
   "outputs": [],
   "source": [
    "#Stochastic Gradient Descent\n",
    "# a function returns a list containing factorized matrices p and q, training and testing RMSEs.\n",
    "def gradesc(f = 10,lam = 0.3,lrate = 0.01, maxiter=10, stopping_deriv = 0.01,data=None, train_data=None, test_data=None):\n",
    "    #random assign value to matrix p and q\n",
    "    p = np.random.uniform(-1,1,(f,U))\n",
    "    p = pd.DataFrame(p)\n",
    "    p.columns=[_+1 for _ in range(U)]\n",
    "    q = np.random.uniform(-1,1,(f,I))\n",
    "    q = pd.DataFrame(q)\n",
    "    q.columns=data['movieId'].unique().tolist()\n",
    "    train_RMSE = []\n",
    "    test_RMSE = []\n",
    "    for m in range(1,maxiter+1):\n",
    "        sample = train_data.sample(train_data.shape[0])\n",
    "         #loop through each training case and perform update\n",
    "        for j in sample.index:\n",
    "            u = sample.loc[j]['userId']\n",
    "            i = sample.loc[j]['movieId']\n",
    "            r_ui = sample.loc[j]['rating']\n",
    "            e_ui = r_ui - np.dot(q[[i]].T,p[[u]])\n",
    "            grad_q = np.array(e_ui*p[[u]])- np.array(lam*q[[i]])\n",
    "\n",
    "            if (all(grad > stopping_deriv for grad in grad_q)):\n",
    "                q[[i]] = q[[i]] + lrate*grad_q\n",
    "\n",
    "            grad_p = np.array(e_ui*q[[i]])-np.array(lam*p[[u]])\n",
    "            if (all(grad > stopping_deriv for grad in grad_p)):\n",
    "                p[[u]] = p[[u]] + lrate*grad_p\n",
    "        #print the values of training and testing RMSE\n",
    "        if (m % 10 == 0 ):\n",
    "            print('epoch:', m)\n",
    "            est_rating = np.dot(q.T,p)\n",
    "            est_rating = pd.DataFrame(est_rating)\n",
    "            est_rating.index=data['movieId'].unique().tolist()\n",
    "            est_rating.columns = [_+1 for _ in range(U)]\n",
    "            train_RMSE_cur = RMSE(train_data, est_rating)\n",
    "            train_RMSE.append(train_RMSE_cur)\n",
    "            print(\"training RMSE:\", train_RMSE_cur)\n",
    "            test_RMSE_cur = RMSE(test_data, est_rating)\n",
    "            test_RMSE.append(test_RMSE_cur)\n",
    "            print(\"test RMSE:\",test_RMSE_cur)\n",
    "    \n",
    "    return {p:p, q:q, train_RMSE:train_RMSE,test_RMSE:test_RMSE}\n"
   ]
  },
  {
   "cell_type": "code",
   "execution_count": null,
   "metadata": {
    "scrolled": true
   },
   "outputs": [
    {
     "name": "stdout",
     "output_type": "stream",
     "text": [
      "epoch: 10\n",
      "training RMSE: 3.7562620799572617\n"
     ]
    }
   ],
   "source": [
    "result = gradesc(f = 10, lam = 0.1,lrate = 0.1,stopping_deriv = 0.04,data = data, train_data=train_data, test_data=test_data)"
   ]
  }
 ],
 "metadata": {
  "kernelspec": {
   "display_name": "Python 3",
   "language": "python",
   "name": "python3"
  },
  "language_info": {
   "codemirror_mode": {
    "name": "ipython",
    "version": 3
   },
   "file_extension": ".py",
   "mimetype": "text/x-python",
   "name": "python",
   "nbconvert_exporter": "python",
   "pygments_lexer": "ipython3",
   "version": "3.7.3"
  }
 },
 "nbformat": 4,
 "nbformat_minor": 2
}
