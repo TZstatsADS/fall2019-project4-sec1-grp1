{
 "cells": [
  {
   "cell_type": "code",
   "execution_count": 1,
   "metadata": {},
   "outputs": [],
   "source": [
    "import random\n",
    "import time\n",
    "import pandas as pd\n",
    "import numpy as np\n",
    "from sklearn.metrics.pairwise import pairwise_distances"
   ]
  },
  {
   "cell_type": "code",
   "execution_count": 2,
   "metadata": {},
   "outputs": [
    {
     "data": {
      "text/plain": [
       "(20167, 80669)"
      ]
     },
     "execution_count": 2,
     "metadata": {},
     "output_type": "execute_result"
    }
   ],
   "source": [
    "data = pd.read_csv('C:/Users/AshChiVoo/Documents/GitHub/fall2019-project4-sec1-grp1/data/ml-latest-small/ratings.csv')\n",
    "\n",
    "few_comments_idx = data['movieId'].value_counts()<5\n",
    "few_comments_idx = few_comments_idx.index\n",
    "\n",
    "test_data = data[(data['movieId'].isin(few_comments_idx))].sample(frac = .2 )\n",
    "train_data = data.drop(test_data.index)\n",
    "test_data.shape[0],train_data.shape[0]"
   ]
  },
  {
   "cell_type": "code",
   "execution_count": 3,
   "metadata": {},
   "outputs": [],
   "source": [
    "import os\n",
    "os.chdir('bC:/Users/AshChiVoo/Documents/GitHub/fall2019-project4-sec1-grp1/li')"
   ]
  },
  {
   "cell_type": "code",
   "execution_count": 17,
   "metadata": {},
   "outputs": [],
   "source": [
    "from Matrix_Factorization_A1 import Matrix_Factorization as mf\n",
    "from Evaluation import RMSE"
   ]
  },
  {
   "cell_type": "code",
   "execution_count": 10,
   "metadata": {},
   "outputs": [
    {
     "name": "stdout",
     "output_type": "stream",
     "text": [
      "397.69391322135925\n"
     ]
    }
   ],
   "source": [
    "model = mf(data, train_data,test_data)\n",
    "t0 = time.time()\n",
    "result3 = model.gradesc_dynamic(f=10,lam=0.3, lrate=0.01, epoch=1, stopping_deriv=0.01, bin_num=30, gamma=0.03, power=0.25)\n",
    "print(time.time()-t0)"
   ]
  },
  {
   "cell_type": "code",
   "execution_count": null,
   "metadata": {},
   "outputs": [],
   "source": [
    "start = time.time()\n",
    "model = mf(data, train_data,test_data)\n",
    "model.gradesc_dynamic(f = 10,lam = 0.1, lrate = 0.01,epoch = 1,stopping_deriv = 0.01)\n",
    "est_rating = model.KNN(k=5,test_point=data)\n",
    "finish = time.time()\n",
    "print('traing time: {:.2f}s'.format(finish - start))\n",
    "model.predict(train_data,test_data)\n",
    "finish_predict = time.time()\n",
    "print('predict time: {:.2f}s'.format(finish_predict - finish))"
   ]
  },
  {
   "cell_type": "code",
   "execution_count": 18,
   "metadata": {},
   "outputs": [
    {
     "ename": "UnboundLocalError",
     "evalue": "local variable 'r_ij' referenced before assignment",
     "output_type": "error",
     "traceback": [
      "\u001b[1;31m---------------------------------------------------------------------------\u001b[0m",
      "\u001b[1;31mUnboundLocalError\u001b[0m                         Traceback (most recent call last)",
      "\u001b[1;32m<ipython-input-18-b9744f2238c3>\u001b[0m in \u001b[0;36m<module>\u001b[1;34m\u001b[0m\n\u001b[1;32m----> 1\u001b[1;33m \u001b[0mest_rating\u001b[0m \u001b[1;33m=\u001b[0m \u001b[0mmodel\u001b[0m\u001b[1;33m.\u001b[0m\u001b[0mKNN\u001b[0m\u001b[1;33m(\u001b[0m\u001b[0mk\u001b[0m\u001b[1;33m=\u001b[0m\u001b[1;36m5\u001b[0m\u001b[1;33m,\u001b[0m\u001b[0mtest_point\u001b[0m\u001b[1;33m=\u001b[0m\u001b[0mdata\u001b[0m\u001b[1;33m)\u001b[0m\u001b[1;33m\u001b[0m\u001b[1;33m\u001b[0m\u001b[0m\n\u001b[0m",
      "\u001b[1;32m~\\Documents\\GitHub\\fall2019-project4-sec1-grp1\\lib\\Matrix_Factorization_A1.py\u001b[0m in \u001b[0;36mKNN\u001b[1;34m(self, k, test_point)\u001b[0m\n\u001b[0;32m    299\u001b[0m         \u001b[1;31m# compute distance from test point to all train point\u001b[0m\u001b[1;33m\u001b[0m\u001b[1;33m\u001b[0m\u001b[1;33m\u001b[0m\u001b[0m\n\u001b[0;32m    300\u001b[0m         \u001b[1;31m#all_distance = [pairwise_distances(train_point, test_point, metric='cosine') for train_point in self._user_latent]\u001b[0m\u001b[1;33m\u001b[0m\u001b[1;33m\u001b[0m\u001b[1;33m\u001b[0m\u001b[0m\n\u001b[1;32m--> 301\u001b[1;33m \u001b[1;33m\u001b[0m\u001b[0m\n\u001b[0m\u001b[0;32m    302\u001b[0m         \u001b[1;31m# get nearest k neighbors' index\u001b[0m\u001b[1;33m\u001b[0m\u001b[1;33m\u001b[0m\u001b[1;33m\u001b[0m\u001b[0m\n\u001b[0;32m    303\u001b[0m         \u001b[1;31m#k_neighbors_class = np.argsort(all_distance)[:self._k]\u001b[0m\u001b[1;33m\u001b[0m\u001b[1;33m\u001b[0m\u001b[1;33m\u001b[0m\u001b[0m\n",
      "\u001b[1;31mUnboundLocalError\u001b[0m: local variable 'r_ij' referenced before assignment"
     ]
    }
   ],
   "source": [
    "est_rating = model.KNN(k=5,test_point=data)"
   ]
  },
  {
   "cell_type": "code",
   "execution_count": null,
   "metadata": {},
   "outputs": [],
   "source": []
  }
 ],
 "metadata": {
  "kernelspec": {
   "display_name": "Python 3",
   "language": "python",
   "name": "python3"
  },
  "language_info": {
   "codemirror_mode": {
    "name": "ipython",
    "version": 3
   },
   "file_extension": ".py",
   "mimetype": "text/x-python",
   "name": "python",
   "nbconvert_exporter": "python",
   "pygments_lexer": "ipython3",
   "version": "3.7.1"
  }
 },
 "nbformat": 4,
 "nbformat_minor": 4
}
